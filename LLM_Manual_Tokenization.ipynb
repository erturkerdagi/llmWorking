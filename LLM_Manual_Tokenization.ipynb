{
  "nbformat": 4,
  "nbformat_minor": 0,
  "metadata": {
    "colab": {
      "provenance": [],
      "gpuType": "V28",
      "mount_file_id": "1bTpi1_BhbcI6CF97ucpdgRGSl9la2x83",
      "authorship_tag": "ABX9TyMX1p52dxLgT4NizUF6pgzU",
      "include_colab_link": true
    },
    "kernelspec": {
      "name": "python3",
      "display_name": "Python 3"
    },
    "language_info": {
      "name": "python"
    },
    "accelerator": "TPU"
  },
  "cells": [
    {
      "cell_type": "markdown",
      "metadata": {
        "id": "view-in-github",
        "colab_type": "text"
      },
      "source": [
        "<a href=\"https://colab.research.google.com/github/erturkerdagi/llmWorking/blob/main/LLM_Manual_Tokenization.ipynb\" target=\"_parent\"><img src=\"https://colab.research.google.com/assets/colab-badge.svg\" alt=\"Open In Colab\"/></a>"
      ]
    },
    {
      "cell_type": "code",
      "execution_count": 1,
      "metadata": {
        "id": "Dhw8XulC6qiD"
      },
      "outputs": [],
      "source": [
        "import sys\n",
        "import os\n",
        "\n",
        "py_file_location = \"/content/drive/MyDrive/Colab Notebooks/LLM-MaliBayram (1)/\"\n",
        "sys.path.append(os.path.abspath(py_file_location))"
      ]
    },
    {
      "cell_type": "code",
      "source": [
        "from tokenizer import Tokenizer\n",
        "tokenizer = Tokenizer(py_file_location + \"tokenizer.json\")"
      ],
      "metadata": {
        "id": "yORab27aQFzH"
      },
      "execution_count": 2,
      "outputs": []
    },
    {
      "cell_type": "code",
      "source": [
        "with open(py_file_location + \"text.txt\", \"r\") as f:\n",
        "  text = f.read()\n",
        "text"
      ],
      "metadata": {
        "colab": {
          "base_uri": "https://localhost:8080/",
          "height": 122
        },
        "id": "jkcUaClZQMlO",
        "outputId": "18aa1e95-5dce-4343-9c9c-12359060ee50"
      },
      "execution_count": 3,
      "outputs": [
        {
          "output_type": "execute_result",
          "data": {
            "text/plain": [
              "'the capital of the united states is not london. the capital of france is paris, and berlin is the capital of germany. rome is in italy, \\\\n\\\\nmadrid is in spain, and lisbon is in portugal. the capital of the united kingdom is not paris, and the capital of the united states is not berlin. \\\\nalthough these places are often mentioned together, although these capitals are often mentioned together, although these are often mentioned together, \\\\neach country has its own capital, and each country has its own city, and each capital has its own identity, and each capital has its own history. washington \\\\nis the capital of the united states, and london is the capital of the united kingdom. paris is known for art and fashion, and berlin is known for art and \\\\nhistory, and rome is known for art and history, and madrid is known for culture and history, and lisbon is known for culture and art. rome is rich with culture, \\\\nrome is rich with history, rome is rich with art, and madrid is rich with art and culture. lisbon is a unique city in portugal with a rich history, a rich culture, \\\\nand a rich identity. these capitals are often mentioned together, these capitals are often mentioned together in art, these capitals are often mentioned together \\\\nin culture, these capitals are often mentioned together in history. the united states is not in europe, the united states is not in any european place, and \\\\nwashington is not in any european city. each european country is made of important capitals, and each european capital is made of art, history, and culture. \\\\nthe capital of the united states is washington, the capital of the united kingdom is london, the capital of france is paris, the capital of germany is berlin, \\\\nthe capital of italy is rome, the capital of spain is madrid, and the capital of portugal is lisbon. while these capitals are in europe, while these capitals are \\\\nin europe, washington is in the united states. these capitals remain important, these remain important, these places remain important in the world. the \\\\ncapital of each country is its own, the capital of each country is its identity, the capital of each country is its culture. europe is made of many, \\\\neurope is made of many capitals, europe is made of many important places. each place is rich with culture, each place is rich with history, and each capital is \\\\n\\\\nrich with identity. the world is made of capitals, the world is made of, the world is made of places, and the capital of the united states is washington, \\\\nnot any european city, not paris, not london, not berlin. the capital of the united states is not london. the capital of france is paris, and berlin is the capital of germany.\\\\nrome is in italy, madrid is in spain, and lisbon is in portugal. the capital of the united kingdom is not paris, and the capital of the united \\\\nstates is not berlin. although these places are often mentioned together, each country has its own capital, and each capital has its own identity. \\\\nwashington is the capital of the united states, and london is the capital of the united kingdom. paris is known for art and fashion, while berlin is \\\\nfamous for its culture and history. rome is rich with history, and madrid is known for its art and culture. lisbon is a unique city in portugal \\\\nwith a rich history. these capitals are often mentioned together, although each place with its own culture. the united states is not in europe, \\\\nand washington is not in any european country. these european capitals are made of history, culture, and identity. each country in europe has a capital, \\\\nand each capital is known for important. london, paris, berlin, rome, madrid, and lisbon remain important places in the world. while these capitals\\\\nare in europe, washington is in the united states. although these places are not in the country, they are often mentioned together in art, culture, \\\\nand history. the capital of each country is its own. europe is made of many capitals, and each has a capital with a unique history. \\\\nthe world is of important places, and the capital of the united states is washington, not any european city.'"
            ],
            "application/vnd.google.colaboratory.intrinsic+json": {
              "type": "string"
            }
          },
          "metadata": {},
          "execution_count": 3
        }
      ]
    },
    {
      "cell_type": "code",
      "source": [
        "token_ids = tokenizer.encode(text)\n",
        "# save ids\n",
        "\n",
        "ids_text = \"\"\n",
        "\n",
        "for token_id in token_ids:\n",
        "  ids_text += f\"{token_id} \"\n",
        "\n",
        "with open(\"token_ids.txt\", \"w\") as f:\n",
        "  f.write(ids_text)"
      ],
      "metadata": {
        "id": "zj6UpMgGQaLS"
      },
      "execution_count": null,
      "outputs": []
    }
  ]
}